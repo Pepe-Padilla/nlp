{
  "cells": [
    {
      "cell_type": "markdown",
      "source": [
        "# Entrenamiento y Test"
      ],
      "metadata": {
        "id": "ChotsHErCwgW"
      }
    },
    {
      "cell_type": "markdown",
      "source": [
        "## 1. Imports y librerías"
      ],
      "metadata": {
        "id": "bb-gNl5PDDfF"
      }
    },
    {
      "cell_type": "code",
      "source": [
        "!pip install numpy\n",
        "!pip install pandas\n",
        "!pip install datasets\n",
        "import pandas as pd\n",
        "import numpy as np\n",
        "import matplotlib.pyplot as plt\n",
        "import seaborn as sns\n",
        "from sklearn.model_selection import train_test_split\n",
        "from sklearn.feature_extraction.text import TfidfVectorizer, CountVectorizer\n",
        "from sklearn.linear_model import LogisticRegression\n",
        "from sklearn.naive_bayes import MultinomialNB\n",
        "from sklearn.metrics import classification_report, accuracy_score, confusion_matrix\n",
        "from sklearn.preprocessing import OneHotEncoder\n",
        "import joblib\n",
        "import torch\n",
        "from transformers import BertTokenizer, BertForSequenceClassification\n",
        "from transformers import Trainer\n",
        "from transformers.training_args import TrainingArguments\n",
        "from datasets import Dataset, ClassLabel\n",
        "import nltk\n",
        "nltk.download('punkt')"
      ],
      "metadata": {
        "colab": {
          "base_uri": "https://localhost:8080/"
        },
        "id": "-8KIp8v3DKHW",
        "outputId": "f050854c-bde9-4ed9-f042-c1d012ab1de4"
      },
      "execution_count": 1,
      "outputs": [
        {
          "output_type": "stream",
          "name": "stdout",
          "text": [
            "Requirement already satisfied: numpy in /usr/local/lib/python3.11/dist-packages (2.0.2)\n",
            "Requirement already satisfied: pandas in /usr/local/lib/python3.11/dist-packages (2.2.2)\n",
            "Requirement already satisfied: numpy>=1.23.2 in /usr/local/lib/python3.11/dist-packages (from pandas) (2.0.2)\n",
            "Requirement already satisfied: python-dateutil>=2.8.2 in /usr/local/lib/python3.11/dist-packages (from pandas) (2.9.0.post0)\n",
            "Requirement already satisfied: pytz>=2020.1 in /usr/local/lib/python3.11/dist-packages (from pandas) (2025.2)\n",
            "Requirement already satisfied: tzdata>=2022.7 in /usr/local/lib/python3.11/dist-packages (from pandas) (2025.2)\n",
            "Requirement already satisfied: six>=1.5 in /usr/local/lib/python3.11/dist-packages (from python-dateutil>=2.8.2->pandas) (1.17.0)\n",
            "Collecting datasets\n",
            "  Downloading datasets-3.5.1-py3-none-any.whl.metadata (19 kB)\n",
            "Requirement already satisfied: filelock in /usr/local/lib/python3.11/dist-packages (from datasets) (3.18.0)\n",
            "Requirement already satisfied: numpy>=1.17 in /usr/local/lib/python3.11/dist-packages (from datasets) (2.0.2)\n",
            "Requirement already satisfied: pyarrow>=15.0.0 in /usr/local/lib/python3.11/dist-packages (from datasets) (18.1.0)\n",
            "Collecting dill<0.3.9,>=0.3.0 (from datasets)\n",
            "  Downloading dill-0.3.8-py3-none-any.whl.metadata (10 kB)\n",
            "Requirement already satisfied: pandas in /usr/local/lib/python3.11/dist-packages (from datasets) (2.2.2)\n",
            "Requirement already satisfied: requests>=2.32.2 in /usr/local/lib/python3.11/dist-packages (from datasets) (2.32.3)\n",
            "Requirement already satisfied: tqdm>=4.66.3 in /usr/local/lib/python3.11/dist-packages (from datasets) (4.67.1)\n",
            "Collecting xxhash (from datasets)\n",
            "  Downloading xxhash-3.5.0-cp311-cp311-manylinux_2_17_x86_64.manylinux2014_x86_64.whl.metadata (12 kB)\n",
            "Collecting multiprocess<0.70.17 (from datasets)\n",
            "  Downloading multiprocess-0.70.16-py311-none-any.whl.metadata (7.2 kB)\n",
            "Collecting fsspec<=2025.3.0,>=2023.1.0 (from fsspec[http]<=2025.3.0,>=2023.1.0->datasets)\n",
            "  Downloading fsspec-2025.3.0-py3-none-any.whl.metadata (11 kB)\n",
            "Requirement already satisfied: aiohttp in /usr/local/lib/python3.11/dist-packages (from datasets) (3.11.15)\n",
            "Requirement already satisfied: huggingface-hub>=0.24.0 in /usr/local/lib/python3.11/dist-packages (from datasets) (0.30.2)\n",
            "Requirement already satisfied: packaging in /usr/local/lib/python3.11/dist-packages (from datasets) (24.2)\n",
            "Requirement already satisfied: pyyaml>=5.1 in /usr/local/lib/python3.11/dist-packages (from datasets) (6.0.2)\n",
            "Requirement already satisfied: aiohappyeyeballs>=2.3.0 in /usr/local/lib/python3.11/dist-packages (from aiohttp->datasets) (2.6.1)\n",
            "Requirement already satisfied: aiosignal>=1.1.2 in /usr/local/lib/python3.11/dist-packages (from aiohttp->datasets) (1.3.2)\n",
            "Requirement already satisfied: attrs>=17.3.0 in /usr/local/lib/python3.11/dist-packages (from aiohttp->datasets) (25.3.0)\n",
            "Requirement already satisfied: frozenlist>=1.1.1 in /usr/local/lib/python3.11/dist-packages (from aiohttp->datasets) (1.6.0)\n",
            "Requirement already satisfied: multidict<7.0,>=4.5 in /usr/local/lib/python3.11/dist-packages (from aiohttp->datasets) (6.4.3)\n",
            "Requirement already satisfied: propcache>=0.2.0 in /usr/local/lib/python3.11/dist-packages (from aiohttp->datasets) (0.3.1)\n",
            "Requirement already satisfied: yarl<2.0,>=1.17.0 in /usr/local/lib/python3.11/dist-packages (from aiohttp->datasets) (1.20.0)\n",
            "Requirement already satisfied: typing-extensions>=3.7.4.3 in /usr/local/lib/python3.11/dist-packages (from huggingface-hub>=0.24.0->datasets) (4.13.2)\n",
            "Requirement already satisfied: charset-normalizer<4,>=2 in /usr/local/lib/python3.11/dist-packages (from requests>=2.32.2->datasets) (3.4.1)\n",
            "Requirement already satisfied: idna<4,>=2.5 in /usr/local/lib/python3.11/dist-packages (from requests>=2.32.2->datasets) (3.10)\n",
            "Requirement already satisfied: urllib3<3,>=1.21.1 in /usr/local/lib/python3.11/dist-packages (from requests>=2.32.2->datasets) (2.4.0)\n",
            "Requirement already satisfied: certifi>=2017.4.17 in /usr/local/lib/python3.11/dist-packages (from requests>=2.32.2->datasets) (2025.1.31)\n",
            "Requirement already satisfied: python-dateutil>=2.8.2 in /usr/local/lib/python3.11/dist-packages (from pandas->datasets) (2.9.0.post0)\n",
            "Requirement already satisfied: pytz>=2020.1 in /usr/local/lib/python3.11/dist-packages (from pandas->datasets) (2025.2)\n",
            "Requirement already satisfied: tzdata>=2022.7 in /usr/local/lib/python3.11/dist-packages (from pandas->datasets) (2025.2)\n",
            "Requirement already satisfied: six>=1.5 in /usr/local/lib/python3.11/dist-packages (from python-dateutil>=2.8.2->pandas->datasets) (1.17.0)\n",
            "Downloading datasets-3.5.1-py3-none-any.whl (491 kB)\n",
            "\u001b[2K   \u001b[90m━━━━━━━━━━━━━━━━━━━━━━━━━━━━━━━━━━━━━━━━\u001b[0m \u001b[32m491.4/491.4 kB\u001b[0m \u001b[31m6.8 MB/s\u001b[0m eta \u001b[36m0:00:00\u001b[0m\n",
            "\u001b[?25hDownloading dill-0.3.8-py3-none-any.whl (116 kB)\n",
            "\u001b[2K   \u001b[90m━━━━━━━━━━━━━━━━━━━━━━━━━━━━━━━━━━━━━━━━\u001b[0m \u001b[32m116.3/116.3 kB\u001b[0m \u001b[31m10.5 MB/s\u001b[0m eta \u001b[36m0:00:00\u001b[0m\n",
            "\u001b[?25hDownloading fsspec-2025.3.0-py3-none-any.whl (193 kB)\n",
            "\u001b[2K   \u001b[90m━━━━━━━━━━━━━━━━━━━━━━━━━━━━━━━━━━━━━━━━\u001b[0m \u001b[32m193.6/193.6 kB\u001b[0m \u001b[31m16.9 MB/s\u001b[0m eta \u001b[36m0:00:00\u001b[0m\n",
            "\u001b[?25hDownloading multiprocess-0.70.16-py311-none-any.whl (143 kB)\n",
            "\u001b[2K   \u001b[90m━━━━━━━━━━━━━━━━━━━━━━━━━━━━━━━━━━━━━━━━\u001b[0m \u001b[32m143.5/143.5 kB\u001b[0m \u001b[31m9.7 MB/s\u001b[0m eta \u001b[36m0:00:00\u001b[0m\n",
            "\u001b[?25hDownloading xxhash-3.5.0-cp311-cp311-manylinux_2_17_x86_64.manylinux2014_x86_64.whl (194 kB)\n",
            "\u001b[2K   \u001b[90m━━━━━━━━━━━━━━━━━━━━━━━━━━━━━━━━━━━━━━━━\u001b[0m \u001b[32m194.8/194.8 kB\u001b[0m \u001b[31m17.2 MB/s\u001b[0m eta \u001b[36m0:00:00\u001b[0m\n",
            "\u001b[?25hInstalling collected packages: xxhash, fsspec, dill, multiprocess, datasets\n",
            "  Attempting uninstall: fsspec\n",
            "    Found existing installation: fsspec 2025.3.2\n",
            "    Uninstalling fsspec-2025.3.2:\n",
            "      Successfully uninstalled fsspec-2025.3.2\n",
            "\u001b[31mERROR: pip's dependency resolver does not currently take into account all the packages that are installed. This behaviour is the source of the following dependency conflicts.\n",
            "gcsfs 2025.3.2 requires fsspec==2025.3.2, but you have fsspec 2025.3.0 which is incompatible.\n",
            "torch 2.6.0+cu124 requires nvidia-cublas-cu12==12.4.5.8; platform_system == \"Linux\" and platform_machine == \"x86_64\", but you have nvidia-cublas-cu12 12.5.3.2 which is incompatible.\n",
            "torch 2.6.0+cu124 requires nvidia-cuda-cupti-cu12==12.4.127; platform_system == \"Linux\" and platform_machine == \"x86_64\", but you have nvidia-cuda-cupti-cu12 12.5.82 which is incompatible.\n",
            "torch 2.6.0+cu124 requires nvidia-cuda-nvrtc-cu12==12.4.127; platform_system == \"Linux\" and platform_machine == \"x86_64\", but you have nvidia-cuda-nvrtc-cu12 12.5.82 which is incompatible.\n",
            "torch 2.6.0+cu124 requires nvidia-cuda-runtime-cu12==12.4.127; platform_system == \"Linux\" and platform_machine == \"x86_64\", but you have nvidia-cuda-runtime-cu12 12.5.82 which is incompatible.\n",
            "torch 2.6.0+cu124 requires nvidia-cudnn-cu12==9.1.0.70; platform_system == \"Linux\" and platform_machine == \"x86_64\", but you have nvidia-cudnn-cu12 9.3.0.75 which is incompatible.\n",
            "torch 2.6.0+cu124 requires nvidia-cufft-cu12==11.2.1.3; platform_system == \"Linux\" and platform_machine == \"x86_64\", but you have nvidia-cufft-cu12 11.2.3.61 which is incompatible.\n",
            "torch 2.6.0+cu124 requires nvidia-curand-cu12==10.3.5.147; platform_system == \"Linux\" and platform_machine == \"x86_64\", but you have nvidia-curand-cu12 10.3.6.82 which is incompatible.\n",
            "torch 2.6.0+cu124 requires nvidia-cusolver-cu12==11.6.1.9; platform_system == \"Linux\" and platform_machine == \"x86_64\", but you have nvidia-cusolver-cu12 11.6.3.83 which is incompatible.\n",
            "torch 2.6.0+cu124 requires nvidia-cusparse-cu12==12.3.1.170; platform_system == \"Linux\" and platform_machine == \"x86_64\", but you have nvidia-cusparse-cu12 12.5.1.3 which is incompatible.\n",
            "torch 2.6.0+cu124 requires nvidia-nvjitlink-cu12==12.4.127; platform_system == \"Linux\" and platform_machine == \"x86_64\", but you have nvidia-nvjitlink-cu12 12.5.82 which is incompatible.\u001b[0m\u001b[31m\n",
            "\u001b[0mSuccessfully installed datasets-3.5.1 dill-0.3.8 fsspec-2025.3.0 multiprocess-0.70.16 xxhash-3.5.0\n"
          ]
        },
        {
          "output_type": "stream",
          "name": "stderr",
          "text": [
            "[nltk_data] Downloading package punkt to /root/nltk_data...\n",
            "[nltk_data]   Unzipping tokenizers/punkt.zip.\n"
          ]
        },
        {
          "output_type": "execute_result",
          "data": {
            "text/plain": [
              "True"
            ]
          },
          "metadata": {},
          "execution_count": 1
        }
      ]
    },
    {
      "cell_type": "markdown",
      "source": [
        "## 2. Descarga"
      ],
      "metadata": {
        "id": "mlP3Pg6MDNja"
      }
    },
    {
      "cell_type": "code",
      "source": [
        "data = pd.read_csv(\"processed_video_games_reviews.csv\")\n",
        "data.dropna(inplace=True)\n",
        "X = data['reviewText_clean']\n",
        "y = data['target']"
      ],
      "metadata": {
        "id": "H-nYQHwuDSLr"
      },
      "execution_count": 2,
      "outputs": []
    },
    {
      "cell_type": "code",
      "source": [
        "data_nsw = pd.read_csv(\"processed_video_games_reviews_nsw.csv\")\n",
        "data_nsw.dropna(inplace=True)\n",
        "X_nsw = data_nsw['reviewText_clean_nsw']\n",
        "y_nsw = data_nsw['target']"
      ],
      "metadata": {
        "id": "kO0lTvhbRcZi"
      },
      "execution_count": 3,
      "outputs": []
    },
    {
      "cell_type": "markdown",
      "source": [
        "## 3 Approaches\n",
        "Intentaré 3 aproaches distintos el tercero es el que menos domino pero igual lo queiro intentar."
      ],
      "metadata": {
        "id": "yfEwV7A9DaAx"
      }
    },
    {
      "cell_type": "markdown",
      "source": [
        "### 3.1 Logistic Regresion con TF-IDF"
      ],
      "metadata": {
        "id": "owRWuhNjDrv8"
      }
    },
    {
      "cell_type": "code",
      "source": [
        "# Split\n",
        "X_train, X_test, y_train, y_test = train_test_split(X, y, test_size=0.2, stratify=y, random_state=42)"
      ],
      "metadata": {
        "id": "8eS83rspDxhe"
      },
      "execution_count": 4,
      "outputs": []
    },
    {
      "cell_type": "code",
      "source": [
        "# Vectorizer\n",
        "tfidf = TfidfVectorizer(\n",
        "    ngram_range=(1,3),        # Unigrams y bigrams\n",
        "    min_df=2,                 # Ignorar términos que aparecen en menos de 3 documentos\n",
        "    max_df=0.70,              # Ignorar los que aparecen en más del 85% (palabras demasiado comunes)\n",
        "    max_features=15000        # Limita la dimensionalidad (ajustable)\n",
        ")\n",
        "X_train_tfidf = tfidf.fit_transform(X_train)\n",
        "X_test_tfidf = tfidf.transform(X_test)"
      ],
      "metadata": {
        "id": "i9vprNQiD2rL"
      },
      "execution_count": 5,
      "outputs": []
    },
    {
      "cell_type": "code",
      "source": [
        "# Modelo\n",
        "lr_model = LogisticRegression(max_iter=1000)\n",
        "lr_model.fit(X_train_tfidf, y_train)\n",
        "y_pred_lr = lr_model.predict(X_test_tfidf)"
      ],
      "metadata": {
        "id": "ryFkVI0uD71_"
      },
      "execution_count": 6,
      "outputs": []
    },
    {
      "cell_type": "code",
      "source": [
        "# Métricas\n",
        "print(classification_report(y_test, y_pred_lr))\n",
        "print(\"Accuracy:\", accuracy_score(y_test, y_pred_lr))\n",
        "sns.heatmap(confusion_matrix(y_test, y_pred_lr), annot=True, fmt='d')\n",
        "plt.title('Confusion Matrix - Logistic Regression')\n",
        "plt.show()"
      ],
      "metadata": {
        "colab": {
          "base_uri": "https://localhost:8080/",
          "height": 626
        },
        "id": "B8irzcb9D96G",
        "outputId": "d69547e6-ac00-4a0e-d942-d8993ed2dca9"
      },
      "execution_count": 7,
      "outputs": [
        {
          "output_type": "stream",
          "name": "stdout",
          "text": [
            "              precision    recall  f1-score   support\n",
            "\n",
            "           0       0.87      0.13      0.23       245\n",
            "           1       0.78      0.99      0.87       755\n",
            "\n",
            "    accuracy                           0.78      1000\n",
            "   macro avg       0.82      0.56      0.55      1000\n",
            "weighted avg       0.80      0.78      0.72      1000\n",
            "\n",
            "Accuracy: 0.783\n"
          ]
        },
        {
          "output_type": "display_data",
          "data": {
            "text/plain": [
              "<Figure size 640x480 with 2 Axes>"
            ],
            "image/png": "[encoded data removed]"
          },
          "metadata": {}
        }
      ]
    },
    {
      "cell_type": "code",
      "source": [
        "# Guardado del modelo y vectorizador\n",
        "joblib.dump(lr_model, 'model_logreg_tfidf.pkl')\n",
        "joblib.dump(tfidf, 'vectorizer_tfidf.pkl')"
      ],
      "metadata": {
        "colab": {
          "base_uri": "https://localhost:8080/"
        },
        "id": "689FNoj5FvL5",
        "outputId": "7c534dad-c4a4-4d58-837d-f15dab3cf779"
      },
      "execution_count": 8,
      "outputs": [
        {
          "output_type": "execute_result",
          "data": {
            "text/plain": [
              "['vectorizer_tfidf.pkl']"
            ]
          },
          "metadata": {},
          "execution_count": 8
        }
      ]
    },
    {
      "cell_type": "markdown",
      "source": [
        "En mi primer intento obtuve un accuracy de 0.761. Luego forcé el uso de unigramas y bigramas mediante el ajuste de los parámetros, lo que me permitió aumentarlo a 0.78. Al incluir trigramas, el incremento fue marginal, alcanzando 0.783. He seguido experimentando con otros parámetros, pero no he observado mejoras significativas en el rendimiento.\n"
      ],
      "metadata": {
        "id": "Fv74QHiYJDJ4"
      }
    },
    {
      "cell_type": "markdown",
      "source": [
        "### 3.2 Naive Bayes con One-hot"
      ],
      "metadata": {
        "id": "b3ZYgMK9D_-D"
      }
    },
    {
      "cell_type": "code",
      "source": [
        "# Vectorizer con CountVectorizer sin stopwords (ya las quitamos antes)\n",
        "count_vect = CountVectorizer(binary=True)\n",
        "X_train_oh = count_vect.fit_transform(X_train)\n",
        "X_test_oh = count_vect.transform(X_test)"
      ],
      "metadata": {
        "id": "VRsirDvhEIJi"
      },
      "execution_count": 9,
      "outputs": []
    },
    {
      "cell_type": "code",
      "source": [
        "# Modelo\n",
        "nb_model = MultinomialNB(alpha=0.6, class_prior=[0.4,0.6])\n",
        "nb_model.fit(X_train_oh, y_train)\n",
        "y_pred_nb = nb_model.predict(X_test_oh)"
      ],
      "metadata": {
        "id": "E9wIvFIuEU2m"
      },
      "execution_count": 10,
      "outputs": []
    },
    {
      "cell_type": "code",
      "source": [
        "# Métricas\n",
        "print(classification_report(y_test, y_pred_nb))\n",
        "print(\"Accuracy:\", accuracy_score(y_test, y_pred_nb))\n",
        "sns.heatmap(confusion_matrix(y_test, y_pred_nb), annot=True, fmt='d')\n",
        "plt.title('Confusion Matrix - Naive Bayes')\n",
        "plt.show()"
      ],
      "metadata": {
        "colab": {
          "base_uri": "https://localhost:8080/",
          "height": 626
        },
        "id": "7GQkg65yEYGe",
        "outputId": "2bea40fc-999c-4b65-daaf-d7652d6f4c9f"
      },
      "execution_count": 11,
      "outputs": [
        {
          "output_type": "stream",
          "name": "stdout",
          "text": [
            "              precision    recall  f1-score   support\n",
            "\n",
            "           0       0.72      0.23      0.35       245\n",
            "           1       0.80      0.97      0.87       755\n",
            "\n",
            "    accuracy                           0.79      1000\n",
            "   macro avg       0.76      0.60      0.61      1000\n",
            "weighted avg       0.78      0.79      0.74      1000\n",
            "\n",
            "Accuracy: 0.789\n"
          ]
        },
        {
          "output_type": "display_data",
          "data": {
            "text/plain": [
              "<Figure size 640x480 with 2 Axes>"
            ],
            "image/png": "[encoded data removed]"
          },
          "metadata": {}
        }
      ]
    },
    {
      "cell_type": "code",
      "source": [
        "# Guardado del modelo y vectorizador\n",
        "joblib.dump(nb_model, 'model_nb_onehot.pkl')\n",
        "joblib.dump(count_vect, 'vectorizer_onehot.pkl')"
      ],
      "metadata": {
        "colab": {
          "base_uri": "https://localhost:8080/"
        },
        "id": "pK8BRQT0FyCb",
        "outputId": "a9d0d025-1a5a-4204-f46b-4c972d51b7b7"
      },
      "execution_count": 12,
      "outputs": [
        {
          "output_type": "execute_result",
          "data": {
            "text/plain": [
              "['vectorizer_onehot.pkl']"
            ]
          },
          "metadata": {},
          "execution_count": 12
        }
      ]
    },
    {
      "cell_type": "markdown",
      "source": [
        "En mi primer intento obtuve un accuracy de 0.76. Empecé a ajustar el parámetro alpha para mejorarlo, pero noté que al hacerlo aumentaba la precisión sobre la clase mayoritaria (1 o sentimiento positivo), mientras que empeoraba notablemente en la clase desbalanceada (0 o sentimiento negativo), incrementando los falsos positivos. Investigando un poco más, vi que podía ajustar class_prior y, efectivamente, logré subir el accuracy a 0.789 sin comprometer tanto la precisión sobre los falsos negativos. Me gustaría contar con más tiempo para experimentar otras aproximaciones; lo primero que cambiaría sería dejar de usar codificación one-hot. Sin embargo, decidí mantenerla por ahora, en parte para explorar algo distinto y tener una base clara desde la cual comparar con los otros modelos."
      ],
      "metadata": {
        "id": "LaaLS5aBL4N3"
      }
    },
    {
      "cell_type": "markdown",
      "source": [
        "### 3.3 Bert"
      ],
      "metadata": {
        "id": "vtxpBdM5EdYt"
      }
    },
    {
      "cell_type": "code",
      "source": [
        "# Preparar datos en formato HuggingFace\n",
        "bert_tokenizer = BertTokenizer.from_pretrained(\"bert-base-uncased\")"
      ],
      "metadata": {
        "id": "acbcjyj7EaOK"
      },
      "execution_count": null,
      "outputs": []
    },
    {
      "cell_type": "code",
      "source": [
        "def tokenize_bert(example):\n",
        "    return bert_tokenizer(example['reviewText_clean_nsw'], truncation=True, padding='max_length', max_length=128)\n"
      ],
      "metadata": {
        "id": "tHwfm-BTEk1B"
      },
      "execution_count": 6,
      "outputs": []
    },
    {
      "cell_type": "code",
      "source": [
        "from datasets import ClassLabel\n",
        "dataset = Dataset.from_pandas(data_nsw)\n",
        "dataset = dataset.cast_column(\"target\", ClassLabel(num_classes=2, names=[\"negative\", \"positive\"]))\n",
        "dataset = dataset.train_test_split(test_size=0.2, stratify_by_column='target', seed=42)\n",
        "dataset = dataset.map(tokenize_bert, batched=True)\n",
        "dataset = dataset.rename_column(\"target\", \"labels\")"
      ],
      "metadata": {
        "id": "xx7sOTCKEqWS"
      },
      "execution_count": null,
      "outputs": []
    },
    {
      "cell_type": "code",
      "source": [
        "# Cargar modelo BERT\n",
        "bert_model = BertForSequenceClassification.from_pretrained(\"bert-base-uncased\", num_labels=2)"
      ],
      "metadata": {
        "id": "FVBJHDRuEq_M"
      },
      "execution_count": null,
      "outputs": []
    },
    {
      "cell_type": "code",
      "source": [
        "# Entrenamiento\n",
        "# Ajuste para evitar integración con wandb y error de pérdida\n",
        "from transformers import DefaultDataCollator\n",
        "import os\n",
        "os.environ[\"WANDB_DISABLED\"] = \"true\"\n",
        "\n",
        "training_args = TrainingArguments(\n",
        "    output_dir=\"./results\",\n",
        "    num_train_epochs=2,\n",
        "    per_device_train_batch_size=16,\n",
        "    per_device_eval_batch_size=64,\n",
        "    logging_dir=\"./logs\",\n",
        "    logging_steps=10,\n",
        "    save_strategy=\"no\",\n",
        "    load_best_model_at_end=False,\n",
        "    disable_tqdm=True,\n",
        "    report_to=\"none\"\n",
        ")\n",
        "\n",
        "trainer = Trainer(\n",
        "    model=bert_model,\n",
        "    args=training_args,\n",
        "    train_dataset=dataset['train'],\n",
        "    eval_dataset=dataset['test'],\n",
        "    data_collator=DefaultDataCollator(),\n",
        "    compute_metrics=None\n",
        ")\n",
        "\n",
        "trainer.train()"
      ],
      "metadata": {
        "colab": {
          "base_uri": "https://localhost:8080/"
        },
        "id": "QAU5shLbEtHL",
        "outputId": "854956d4-9837-4190-a0a1-e7f0a2dcd2d4"
      },
      "execution_count": 9,
      "outputs": [
        {
          "output_type": "stream",
          "name": "stdout",
          "text": [
            "{'loss': 0.5882, 'grad_norm': 2.4379029273986816, 'learning_rate': 4.91e-05, 'epoch': 0.04}\n",
            "{'loss': 0.5214, 'grad_norm': 4.276220798492432, 'learning_rate': 4.8100000000000004e-05, 'epoch': 0.08}\n",
            "{'loss': 0.5178, 'grad_norm': 1.4776734113693237, 'learning_rate': 4.71e-05, 'epoch': 0.12}\n",
            "{'loss': 0.5381, 'grad_norm': 5.64410400390625, 'learning_rate': 4.61e-05, 'epoch': 0.16}\n",
            "{'loss': 0.4911, 'grad_norm': 3.5445010662078857, 'learning_rate': 4.5100000000000005e-05, 'epoch': 0.2}\n",
            "{'loss': 0.4234, 'grad_norm': 6.530026912689209, 'learning_rate': 4.41e-05, 'epoch': 0.24}\n",
            "{'loss': 0.4498, 'grad_norm': 6.073476791381836, 'learning_rate': 4.3100000000000004e-05, 'epoch': 0.28}\n",
            "{'loss': 0.4031, 'grad_norm': 3.6578903198242188, 'learning_rate': 4.21e-05, 'epoch': 0.32}\n",
            "{'loss': 0.3955, 'grad_norm': 6.333266258239746, 'learning_rate': 4.11e-05, 'epoch': 0.36}\n",
            "{'loss': 0.364, 'grad_norm': 7.045213222503662, 'learning_rate': 4.0100000000000006e-05, 'epoch': 0.4}\n",
            "{'loss': 0.4705, 'grad_norm': 3.7439281940460205, 'learning_rate': 3.91e-05, 'epoch': 0.44}\n",
            "{'loss': 0.4204, 'grad_norm': 18.383182525634766, 'learning_rate': 3.8100000000000005e-05, 'epoch': 0.48}\n",
            "{'loss': 0.3588, 'grad_norm': 5.126797676086426, 'learning_rate': 3.71e-05, 'epoch': 0.52}\n",
            "{'loss': 0.3258, 'grad_norm': 3.9735944271087646, 'learning_rate': 3.61e-05, 'epoch': 0.56}\n",
            "{'loss': 0.4382, 'grad_norm': 7.654891490936279, 'learning_rate': 3.51e-05, 'epoch': 0.6}\n",
            "{'loss': 0.4164, 'grad_norm': 6.622525215148926, 'learning_rate': 3.41e-05, 'epoch': 0.64}\n",
            "{'loss': 0.4326, 'grad_norm': 6.069478988647461, 'learning_rate': 3.3100000000000005e-05, 'epoch': 0.68}\n",
            "{'loss': 0.3725, 'grad_norm': 4.773636817932129, 'learning_rate': 3.21e-05, 'epoch': 0.72}\n",
            "{'loss': 0.2803, 'grad_norm': 7.721787452697754, 'learning_rate': 3.1100000000000004e-05, 'epoch': 0.76}\n",
            "{'loss': 0.3936, 'grad_norm': 5.878520965576172, 'learning_rate': 3.01e-05, 'epoch': 0.8}\n",
            "{'loss': 0.367, 'grad_norm': 3.3992695808410645, 'learning_rate': 2.91e-05, 'epoch': 0.84}\n",
            "{'loss': 0.4248, 'grad_norm': 3.2744460105895996, 'learning_rate': 2.8100000000000005e-05, 'epoch': 0.88}\n",
            "{'loss': 0.3494, 'grad_norm': 6.090927600860596, 'learning_rate': 2.7100000000000005e-05, 'epoch': 0.92}\n",
            "{'loss': 0.4738, 'grad_norm': 7.713515758514404, 'learning_rate': 2.61e-05, 'epoch': 0.96}\n",
            "{'loss': 0.3943, 'grad_norm': 4.212762355804443, 'learning_rate': 2.51e-05, 'epoch': 1.0}\n",
            "{'loss': 0.2553, 'grad_norm': 1.8987677097320557, 'learning_rate': 2.41e-05, 'epoch': 1.04}\n",
            "{'loss': 0.3391, 'grad_norm': 9.22680950164795, 'learning_rate': 2.3100000000000002e-05, 'epoch': 1.08}\n",
            "{'loss': 0.27, 'grad_norm': 4.760345458984375, 'learning_rate': 2.2100000000000002e-05, 'epoch': 1.12}\n",
            "{'loss': 0.2756, 'grad_norm': 10.674155235290527, 'learning_rate': 2.11e-05, 'epoch': 1.16}\n",
            "{'loss': 0.2492, 'grad_norm': 4.404233455657959, 'learning_rate': 2.01e-05, 'epoch': 1.2}\n",
            "{'loss': 0.2072, 'grad_norm': 7.71597146987915, 'learning_rate': 1.91e-05, 'epoch': 1.24}\n",
            "{'loss': 0.1834, 'grad_norm': 7.392199516296387, 'learning_rate': 1.81e-05, 'epoch': 1.28}\n",
            "{'loss': 0.2875, 'grad_norm': 4.467791557312012, 'learning_rate': 1.7100000000000002e-05, 'epoch': 1.32}\n",
            "{'loss': 0.1749, 'grad_norm': 1.2102293968200684, 'learning_rate': 1.6100000000000002e-05, 'epoch': 1.3599999999999999}\n",
            "{'loss': 0.2571, 'grad_norm': 13.634696960449219, 'learning_rate': 1.51e-05, 'epoch': 1.4}\n",
            "{'loss': 0.3414, 'grad_norm': 6.146316051483154, 'learning_rate': 1.4099999999999999e-05, 'epoch': 1.44}\n",
            "{'loss': 0.1826, 'grad_norm': 4.493390083312988, 'learning_rate': 1.3100000000000002e-05, 'epoch': 1.48}\n",
            "{'loss': 0.2804, 'grad_norm': 5.050889015197754, 'learning_rate': 1.2100000000000001e-05, 'epoch': 1.52}\n",
            "{'loss': 0.1486, 'grad_norm': 10.688589096069336, 'learning_rate': 1.11e-05, 'epoch': 1.56}\n",
            "{'loss': 0.1544, 'grad_norm': 16.119827270507812, 'learning_rate': 1.0100000000000002e-05, 'epoch': 1.6}\n",
            "{'loss': 0.2272, 'grad_norm': 3.4429101943969727, 'learning_rate': 9.100000000000001e-06, 'epoch': 1.6400000000000001}\n",
            "{'loss': 0.2421, 'grad_norm': 0.7110769152641296, 'learning_rate': 8.1e-06, 'epoch': 1.6800000000000002}\n",
            "{'loss': 0.3508, 'grad_norm': 9.146370887756348, 'learning_rate': 7.1e-06, 'epoch': 1.72}\n",
            "{'loss': 0.2983, 'grad_norm': 7.6759772300720215, 'learning_rate': 6.1e-06, 'epoch': 1.76}\n",
            "{'loss': 0.1761, 'grad_norm': 7.494452476501465, 'learning_rate': 5.1e-06, 'epoch': 1.8}\n",
            "{'loss': 0.2781, 'grad_norm': 1.460120677947998, 'learning_rate': 4.1000000000000006e-06, 'epoch': 1.8399999999999999}\n",
            "{'loss': 0.1576, 'grad_norm': 12.472853660583496, 'learning_rate': 3.1e-06, 'epoch': 1.88}\n",
            "{'loss': 0.2095, 'grad_norm': 7.603560924530029, 'learning_rate': 2.1000000000000002e-06, 'epoch': 1.92}\n",
            "{'loss': 0.1578, 'grad_norm': 0.396330863237381, 'learning_rate': 1.1e-06, 'epoch': 1.96}\n",
            "{'loss': 0.1463, 'grad_norm': 9.882758140563965, 'learning_rate': 1.0000000000000001e-07, 'epoch': 2.0}\n",
            "{'train_runtime': 168.6054, 'train_samples_per_second': 47.436, 'train_steps_per_second': 2.966, 'train_loss': 0.32922383785247805, 'epoch': 2.0}\n"
          ]
        },
        {
          "output_type": "execute_result",
          "data": {
            "text/plain": [
              "TrainOutput(global_step=500, training_loss=0.32922383785247805, metrics={'train_runtime': 168.6054, 'train_samples_per_second': 47.436, 'train_steps_per_second': 2.966, 'train_loss': 0.32922383785247805, 'epoch': 2.0})"
            ]
          },
          "metadata": {},
          "execution_count": 9
        }
      ]
    },
    {
      "cell_type": "code",
      "source": [
        "# Evaluación\n",
        "bert_eval = trainer.evaluate()\n",
        "print(\"Accuracy BERT:\", bert_eval['eval_loss'])  # Nota: en este caso se muestra loss como referencia"
      ],
      "metadata": {
        "colab": {
          "base_uri": "https://localhost:8080/"
        },
        "id": "tcLBvQaDEyt5",
        "outputId": "0edfc3ae-ee41-486c-bb98-af31cbe97555"
      },
      "execution_count": 10,
      "outputs": [
        {
          "output_type": "stream",
          "name": "stdout",
          "text": [
            "{'eval_loss': 0.47320935130119324, 'eval_runtime': 6.3313, 'eval_samples_per_second': 157.945, 'eval_steps_per_second': 2.527, 'epoch': 2.0}\n",
            "Accuracy BERT: 0.47320935130119324\n"
          ]
        }
      ]
    },
    {
      "cell_type": "code",
      "source": [
        "# Guardado del modelo y tokenizer\n",
        "bert_model.save_pretrained(\"bert_model_sentiment\")\n",
        "bert_tokenizer.save_pretrained(\"bert_model_sentiment\")"
      ],
      "metadata": {
        "colab": {
          "base_uri": "https://localhost:8080/"
        },
        "id": "wBsLxRHVF1d_",
        "outputId": "c929a6ee-69bc-498e-d40f-2d12315635cd"
      },
      "execution_count": 11,
      "outputs": [
        {
          "output_type": "execute_result",
          "data": {
            "text/plain": [
              "('bert_model_sentiment/tokenizer_config.json',\n",
              " 'bert_model_sentiment/special_tokens_map.json',\n",
              " 'bert_model_sentiment/vocab.txt',\n",
              " 'bert_model_sentiment/added_tokens.json')"
            ]
          },
          "metadata": {},
          "execution_count": 11
        }
      ]
    },
    {
      "cell_type": "markdown",
      "source": [
        "## 4. Comentarios y conclusiones"
      ],
      "metadata": {
        "id": "muwsTq5-EzsO"
      }
    },
    {
      "cell_type": "markdown",
      "source": [
        "Aqui van mis comentarios.\n",
        "{'eval_loss': 0.4093605577945709, 'eval_runtime': 398.8172, 'eval_samples_per_second': 2.507, 'eval_steps_per_second': 0.04, 'epoch': 2.0}\n",
        "Accuracy BERT: 0.4093605577945709"
      ],
      "metadata": {
        "id": "QlMoROheE5eF"
      }
    }
  ],
  "metadata": {
    "colab": {
      "provenance": [],
      "gpuType": "T4"
    },
    "kernelspec": {
      "display_name": "Python 3",
      "name": "python3"
    },
    "language_info": {
      "codemirror_mode": {
        "name": "ipython",
        "version": 3
      },
      "file_extension": ".py",
      "mimetype": "text/x-python",
      "name": "python",
      "nbconvert_exporter": "python",
      "pygments_lexer": "ipython3",
      "version": "3.9.13"
    },
    "accelerator": "GPU"
  },
  "nbformat": 4,
  "nbformat_minor": 0
}